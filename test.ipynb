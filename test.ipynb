{
 "cells": [
  {
   "cell_type": "code",
   "execution_count": 1,
   "metadata": {},
   "outputs": [],
   "source": [
    "import numpy as np"
   ]
  },
  {
   "cell_type": "code",
   "execution_count": 3,
   "metadata": {},
   "outputs": [
    {
     "data": {
      "text/plain": [
       "array([[-3.57054666e-06, -2.65209275e-06,  1.99580214e-06,\n",
       "        -7.45077967e-06, -5.89436554e-06],\n",
       "       [ 1.07016102e-05,  1.61409046e-05,  9.40973292e-06,\n",
       "         9.26597542e-06,  1.10129059e-05],\n",
       "       [ 2.54108938e-06,  3.13053936e-06, -1.29251172e-05,\n",
       "        -6.09757648e-06, -6.24903276e-06]])"
      ]
     },
     "execution_count": 3,
     "metadata": {},
     "output_type": "execute_result"
    }
   ],
   "source": [
    "# obs_random = np.random.randn(obs.shape[0], obs.shape[1]) / 100000 \n",
    "obs_random = np.random.randn(3, 5) / 100000 \n",
    "obs_random"
   ]
  },
  {
   "cell_type": "code",
   "execution_count": 5,
   "metadata": {},
   "outputs": [
    {
     "data": {
      "text/plain": [
       "{'a': 2}"
      ]
     },
     "execution_count": 5,
     "metadata": {},
     "output_type": "execute_result"
    }
   ],
   "source": [
    "d1 = {'a':1}\n",
    "d2 = {'a':2}\n",
    "{**d1,**d2}"
   ]
  },
  {
   "cell_type": "code",
   "execution_count": 6,
   "metadata": {},
   "outputs": [
    {
     "name": "stderr",
     "output_type": "stream",
     "text": [
      "/usr/local/miniconda3/envs/d4rl/lib/python3.7/site-packages/tqdm/auto.py:22: TqdmWarning: IProgress not found. Please update jupyter and ipywidgets. See https://ipywidgets.readthedocs.io/en/stable/user_install.html\n",
      "  from .autonotebook import tqdm as notebook_tqdm\n"
     ]
    }
   ],
   "source": [
    "import torch \n",
    "batch_augmentaton_1 = {\n",
    "    'observations': torch.tensor([[ 2,  3, ],\n",
    "                            [5, -8, ]]),\n",
    "    'actions': torch.tensor([[ 34,  6, ],\n",
    "                            [-7, -18, ]]),\n",
    "                    }\n",
    "\n",
    "batch_augmentaton_2 = {\n",
    "    'observations': torch.tensor([[ 6.7,  6.5, ],\n",
    "                            [-7.4, -8.48, ]]),\n",
    "    'actions': torch.tensor([[ 7,  5, ],\n",
    "                            [1, -41, ]]),\n",
    "                    }"
   ]
  },
  {
   "cell_type": "code",
   "execution_count": 10,
   "metadata": {},
   "outputs": [
    {
     "name": "stdout",
     "output_type": "stream",
     "text": [
      "{'actions': tensor([[ 34,   6],\n",
      "        [ -7, -18],\n",
      "        [  7,   5],\n",
      "        [  1, -41]]),\n",
      " 'observations': tensor([[ 2.0000,  3.0000],\n",
      "        [ 5.0000, -8.0000],\n",
      "        [ 6.7000,  6.5000],\n",
      "        [-7.4000, -8.4800]])}\n"
     ]
    }
   ],
   "source": [
    "import pprint\n",
    "new = {}\n",
    "\n",
    "for a_item, b_item in zip(batch_augmentaton_1.items(), batch_augmentaton_2.items()):\n",
    "    if a_item[0] == b_item[0]:\n",
    "        new[a_item[0]] = torch.cat([a_item[1], b_item[1]],dim=0)\n",
    "pprint.pprint(new)"
   ]
  },
  {
   "cell_type": "code",
   "execution_count": 13,
   "metadata": {},
   "outputs": [
    {
     "name": "stdout",
     "output_type": "stream",
     "text": [
      "torch.Size([4, 2])\n"
     ]
    }
   ],
   "source": [
    "print(new['actions'].size())"
   ]
  }
 ],
 "metadata": {
  "kernelspec": {
   "display_name": "d4rl",
   "language": "python",
   "name": "python3"
  },
  "language_info": {
   "codemirror_mode": {
    "name": "ipython",
    "version": 3
   },
   "file_extension": ".py",
   "mimetype": "text/x-python",
   "name": "python",
   "nbconvert_exporter": "python",
   "pygments_lexer": "ipython3",
   "version": "3.7.16"
  },
  "orig_nbformat": 4,
  "vscode": {
   "interpreter": {
    "hash": "82834a84582d3e37af5abfb7322744a7fdb745dc75ca250499c6cb1b068c118f"
   }
  }
 },
 "nbformat": 4,
 "nbformat_minor": 2
}
